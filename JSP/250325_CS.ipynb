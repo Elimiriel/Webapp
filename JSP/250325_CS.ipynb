{
 "cells": [
  {
   "cell_type": "markdown",
   "metadata": {},
   "source": [
    "# Learning Simple Server IO routines\n",
    "1. JSP: Java Server Pages. Not used in these days, but know how it works.\n",
    "2. Servlet: Java Servlet. Not cutting-edge.\n",
    "3. JSP + Servlet: JSP and Servlet together. Not used in these days.\n",
    "4. Spring MVC: Spring MVC. Not used in these days.\n",
    "5. Spring Boot: Spring Boot. Used in these days."
   ]
  },
  {
   "cell_type": "markdown",
   "metadata": {
    "vscode": {
     "languageId": "ini"
    }
   },
   "source": [
    "| 구분 | 쿠키 (Cookie) | 세션 (Session) |\n",
    "|------|---------------|----------------|\n",
    "| 저장 위치 | 클라이언트(브라우저) | 서버 |\n",
    "| 보안 수준 | 상대적으로 낮음 (변조 가능) | 상대적으로 높음 (서버 관리) |\n",
    "| 데이터 크기 | 제한적 (4KB) | 비교적 큼 (서버 저장 가능) |\n",
    "| 지속 시간 | 설정 가능 (영구/일시적) | 일정 시간 후 만료 |\n",
    "| 전송 방식 | 모든 요청마다 포함됨 | 서버에서 관리 (쿠키 또는 URL로 전달) |\n",
    "| 사용 목적 | 사용자 설정 유지, 자동 로그인 등 | 로그인 정보 유지, 상태 관리 |"
   ]
  },
  {
   "cell_type": "markdown",
   "metadata": {},
   "source": [
    "# 1. 쿠키(Cookie)란?\n",
    "- 정의: 사용자의 브라우저에 저장되는 작은 데이터 파일\n",
    "- 저장 위치: 클라이언트(사용자의 웹 브라우저)\n",
    "- 유효 기간: 만료 날짜를 설정할 수 있으며, 영구 쿠키(만료일 설정) 또는 세션 쿠키(브라우저 종료 시 삭제)로 사용할 수 있음\n",
    "- 보안 수준: 클라이언트에서 조작이 가능하므로 민감한 정보 저장에 부적절\n",
    "- 전송 방식: 웹 브라우저가 요청할 때마다 쿠키 데이터를 자동으로 서버에 전송\n",
    "1. 1. 사용 예시\n",
    "- 로그인 유지 (예: remember me 기능)\n",
    "- 장바구니 정보 저장\n",
    "- 사용자 설정(예: 다크 모드, 언어 설정)"
   ]
  },
  {
   "cell_type": "markdown",
   "metadata": {},
   "source": [
    "# 쿠키의 생성 방법과 관련 메서드\n",
    "  * 쿠키의 생성 방법\n",
    "    - 쿠키의 생성은 쿠키 클래스를 이용함.\n",
    "    - 쿠키 속성 설정(setter)\n",
    "    - 쿠키의 전송(response 객체에 탑재 : addCookies())  \n",
    "  \n",
    "  * 쿠키 관련 메서드\n",
    "    - setMaxAge()\n",
    "      ==> 쿠키의 유효 기간을 설정하는 메서드.\n",
    "    - setPath() \n",
    "      ==> 쿠키 사용을 위한 디렉토리를 설정하는 메서드.\n",
    "          (특정 경로명을 갖는 url로 전송하도록 설정)\n",
    "    - setValue()\n",
    "      ==> 쿠키 값을 설정하는 메서드.\n",
    "    - setVersion()\n",
    "      ==> 쿠키의 버전을 설정하는 메서드.\n",
    "    - getMaxAge()\n",
    "      ==> 쿠키의 유효 기간 정보를 얻어 오는 메서드.\n",
    "    - getName()\n",
    "      ==> 쿠키의 이름을 얻어올 때 사용하는 메서드.\n",
    "    - getPath()\n",
    "      ==> 쿠키의 유효 디렉토리 정보를 얻어올 때 사용하는 메서드.\n",
    "    - getVersion()\n",
    "      ==> 쿠키의 버전을 얻어올 때 사용하는 메서드.\n",
    "    - getCookies()\n",
    "      ==> 쿠키 데이터를 읽어올 때 사용하는 메서드.\n",
    "          웹 브라우저로 보낸 쿠키를 배열로 반환해 주는 메서드.\n",
    "          \n",
    "# 저장된 쿠키를 사용하는 순서\n",
    "  1. 웹 브라우저에 요청을 하여 쿠키를 얻어온다.\n",
    "  2. 쿠키는 이름, 값의 쌍으로 된 배열 형태로 반환이 됨.\n",
    "     반환된 쿠키의 배열에서 쿠키의 이름을 가져온다.\n",
    "  3. 쿠키의 이름을 통해서 해당 쿠키의 설정된 값을 추출함."
   ]
  },
  {
   "cell_type": "code",
   "execution_count": null,
   "metadata": {
    "vscode": {
     "languageId": "plaintext"
    }
   },
   "outputs": [],
   "source": [
    "// 쿠키 설정 (JavaScript)\n",
    "document.cookie = \"username=John; expires=Fri, 31 Dec 2025 23:59:59 GMT; path=/\";"
   ]
  },
  {
   "cell_type": "markdown",
   "metadata": {},
   "source": [
    "# 2. 세션(Session)이란?\n",
    "- 정의: 사용자가 웹사이트를 방문한 동안 서버에서 유지되는 사용자 정보\n",
    "- 저장 위치: 서버(일반적으로 메모리 또는 데이터베이스)\n",
    "- 유효 기간: 일정 시간(default: 30분) 동안 유지되며, 사용자가 활동하면 연장 가능\n",
    "- 보안 수준: 쿠키보다 안전하지만, 세션 ID가 탈취되면 보안 문제가 발생할 수 있음\n",
    "- 전송 방식: 서버에서 세션 ID를 생성하고, 이를 쿠키 또는 URL 파라미터를 통해 클라이언트에게 전달\n",
    "\n",
    "2. 1. 사용 예시\n",
    "- 로그인 인증 및 사용자 정보 유지\n",
    "- 결제 프로세스에서 상태 유지\n",
    "- 페이지 간 데이터 공유"
   ]
  },
  {
   "cell_type": "markdown",
   "metadata": {},
   "source": [
    "# 세션 관련 메서드\n",
    "  - setAttribute() \n",
    "    ==> 세션의 속성을 설정하는 메서드.\n",
    "        형식) session.setAttribute(\"id\", \"hong\");\n",
    "  - getAttribute()\n",
    "    ==> 세션에서 데이터를 얻어올 때(세션의 속성을 사용할 때)\n",
    "        이용하는 메서드.\n",
    "        형식) String id = \n",
    "              (String)session.getAttribute(\"id\");\n",
    "  - getAttributeNames()\n",
    "    ==> 세션에 저장되어 있는 모든 데이터의 이름을 얻어올 때\n",
    "        사용하는 메서드.\n",
    "  - removeAttribute()\n",
    "    ==> 세션의 특정 데이터를 제거하는 메서드\n",
    "        형식) session.removeAttribute()\n",
    "  - invalidate()\n",
    "    ==> 세션의 모든 데이터를 삭제하는 메서드.\n",
    "  - getId()\n",
    "    ==> 자동 생성된 세션의 아이디를 얻어올 때 사용하는 메서드.\n",
    "  - isNew()\n",
    "    ==> 세션이 최초 생성되었는지 여부를 알고 싶은 경우 사용되는 메서드.\n",
    "  - getMaxInactiveInterval()\n",
    "    ==> 세션의 유효 시간을 얻어올 때 사용하는 메서드."
   ]
  },
  {
   "cell_type": "code",
   "execution_count": null,
   "metadata": {
    "vscode": {
     "languageId": "plaintext"
    }
   },
   "outputs": [],
   "source": [
    "# Flask 세션 사용 예제 (Python)\n",
    "from flask import Flask, session\n",
    "\n",
    "app = Flask(__name__)\n",
    "app.secret_key = 'your_secret_key'  # 세션 암호화 키 설정\n",
    "\n",
    "@app.route('/')\n",
    "def index():\n",
    "    session['username'] = 'John'  # 세션에 값 저장\n",
    "    return \"Session Set\"\n",
    "\n",
    "@app.route('/get')\n",
    "def get_session():\n",
    "    return session.get('username', 'No session set')\n",
    "\n",
    "if __name__ == '__main__':\n",
    "    app.run()"
   ]
  },
  {
   "cell_type": "markdown",
   "metadata": {},
   "source": [
    "# 3. 웹페이지 구성 시 사용법\n",
    "✅ 쿠키 사용 시\n",
    "- 사용자의 개인 설정(언어, 테마 등)을 저장\n",
    "- 로그인 유지(토큰 저장)\n",
    "- 브라우저에서 직접 접근 가능하므로 민감한 데이터 저장 X\n",
    "\n",
    "✅ 세션 사용 시\n",
    "- 로그인 상태 유지 (인증 정보 저장)\n",
    "- 결제 과정과 같은 중요한 데이터 유지\n",
    "- 데이터 보안이 중요한 경우 (서버에서 관리)\n",
    "\n",
    "💡 실제 개발에서는 쿠키와 세션을 함께 사용하는 경우가 많음\n",
    "예를 들어:\n",
    "\n",
    "- 사용자가 로그인하면 세션을 생성하여 서버에서 관리\n",
    "- 사용자의 로그인 상태를 유지하려면 쿠키에 세션 ID를 저장\n",
    "- 요청이 들어오면 세션 ID를 확인하여 사용자를 인증"
   ]
  },
  {
   "cell_type": "code",
   "execution_count": null,
   "metadata": {
    "vscode": {
     "languageId": "plaintext"
    }
   },
   "outputs": [],
   "source": [
    "# Django 로그인 세션 예제\n",
    "from django.shortcuts import render, redirect\n",
    "\n",
    "def login(request):\n",
    "    if request.method == 'POST':\n",
    "        username = request.POST['username']\n",
    "        request.session['user'] = username  # 세션에 저장\n",
    "        return redirect('home')\n",
    "    return render(request, 'login.html')\n",
    "\n",
    "def home(request):\n",
    "    username = request.session.get('user', 'Guest')\n",
    "    return render(request, 'home.html', {'username': username})"
   ]
  },
  {
   "cell_type": "markdown",
   "metadata": {},
   "source": [
    "# DB 연동\n",
    "- JDBC: 자바 데이터베이스 연동 API: 자바 프로그램에서 데이터베이스에 접속하고 SQL을 실행할 수 있도록 지원하는 API. \n",
    "  - MVC2: webapp/web-inf/lib에 jar 파일 추가, Java Resources/src/main/java/model(DB연동부: DTransferObj, DAccessObj), view(표시), controller(처리) 패키지 생성 (1: jsp에서 직접 db연동, 2: model에서 db연동)\n",
    "- MyBatis: SQL 매핑 프레임워크\n",
    "- JPA: 자바 ORM 표준\n",
    "- Spring Data JPA: JPA를 쉽게 사용할 수 있도록 지원하는 스프링 프레임워크\n",
    "- Spring JDBC: JDBC를 쉽게 사용할 수 있도록 지원하는 스프링 프레임워크\n",
    "- Spring Data JDBC: JDBC를 쉽게 사용할 수 있도록 지원하는 스프링 프레임워크\n",
    "- Spring Data MongoDB: MongoDB를 쉽게 사용할 수 있도록 지원하는 스프링 프레임워크\n",
    "- Spring Data Redis: Redis를 쉽게 사용할 수 있도록 지원하는 스프링 프레임워크\n",
    "- Spring Data Elasticsearch: Elasticsearch를 쉽게 사용할 수 있도록 지원하는 스프링 프레임워크\n",
    "- Spring Data Cassandra: Cassandra를 쉽게 사용할 수 있도록 지원하는 스프링 프레임워크\n",
    "- Spring Data Couchbase: Couchbase를 쉽게 사용할 수 있도록 지원하는 스프링 프레임워크\n",
    "- Spring Data Neo4j: Neo4j를 쉽게 사용할 수 있도록 지원하는 스프링 프레임워크\n",
    "- Spring Data Solr: Solr를 쉽게 사용할 수 있도록 지원하는 스프링 프레임워크\n",
    "- Spring Data Gemfire: Gemfire를 쉽게 사용할 수 있도록 지원하는 스프링 프레임워크\n",
    "- Spring Data Geode: Geode를 쉽게 사용할 수 있도록 지원하는 스프링 프레임워크\n",
    "- Spring Data R2DBC: R2DBC를 쉽게 사용할 수 있도록 지원하는 스프링 프레임워크\n",
    "- Spring Data JDBC Extensions: JDBC를 쉽게 사용할 수 있도록 지원하는 스프링 프레임워크\n",
    "- Spring Data KeyValue: Key-Value 저장소를 쉽게 사용할 수 있도록 지원하는 스프링 프레임워크\n",
    "- Spring Data LDAP: LDAP를 쉽게 사용할 수 있도록 지원하는 스프링 프레임워크\n",
    "- Spring Data REST: REST API를 쉽게 사용할 수 있도록 지원하는 스프링 프레임워크\n",
    "- Spring Data Envers: Envers를 쉽게 사용할 수 있도록 지원하는 스프링 프레임워크"
   ]
  }
 ],
 "metadata": {
  "language_info": {
   "name": "python"
  }
 },
 "nbformat": 4,
 "nbformat_minor": 2
}
